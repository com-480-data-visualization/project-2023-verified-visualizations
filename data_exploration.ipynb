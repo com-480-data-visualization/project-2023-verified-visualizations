{
 "cells": [
  {
   "cell_type": "code",
   "execution_count": 1,
   "id": "4fc22e6b-7aba-41db-9200-7a04f5637c23",
   "metadata": {},
   "outputs": [],
   "source": [
    "import pandas as pd\n",
    "import seaborn as sns\n",
    "sns.set_style(\"darkgrid\")\n",
    "import matplotlib.pyplot as plt\n",
    "plt.rcParams['figure.figsize'] = [10, 5]\n",
    "font = {'size'   : 18}\n",
    "\n",
    "plt.matplotlib.rc('font', **font)"
   ]
  },
  {
   "cell_type": "markdown",
   "id": "528e05bd-5057-4f78-9181-a146204a9b66",
   "metadata": {},
   "source": [
    "### Loading and overall summary stats"
   ]
  },
  {
   "cell_type": "code",
   "execution_count": 2,
   "id": "4fd4580b-a7d3-411c-be63-55377744b655",
   "metadata": {},
   "outputs": [],
   "source": [
    "trips = pd.read_csv(\"fixed-citibike-trips.csv\")\n",
    "trips['starttime'] = pd.to_datetime(trips['starttime'])"
   ]
  },
  {
   "cell_type": "code",
   "execution_count": 3,
   "id": "df6b52df-1782-4be2-8dc3-66f2220ea6ed",
   "metadata": {},
   "outputs": [
    {
     "data": {
      "text/plain": [
       "Index(['tripduration', 'starttime', 'stoptime', 'start_station_id',\n",
       "       'start_station_name', 'start_station_latitude',\n",
       "       'start_station_longitude', 'end_station_id', 'end_station_name',\n",
       "       'end_station_latitude', 'end_station_longitude', 'bikeid', 'usertype',\n",
       "       'birth_year', 'gender'],\n",
       "      dtype='object')"
      ]
     },
     "execution_count": 3,
     "metadata": {},
     "output_type": "execute_result"
    }
   ],
   "source": [
    "trips.columns"
   ]
  },
  {
   "cell_type": "code",
   "execution_count": 4,
   "id": "3d1774cc-0689-4eb3-850d-1355007912eb",
   "metadata": {},
   "outputs": [
    {
     "data": {
      "text/html": [
       "<div>\n",
       "<style scoped>\n",
       "    .dataframe tbody tr th:only-of-type {\n",
       "        vertical-align: middle;\n",
       "    }\n",
       "\n",
       "    .dataframe tbody tr th {\n",
       "        vertical-align: top;\n",
       "    }\n",
       "\n",
       "    .dataframe thead th {\n",
       "        text-align: right;\n",
       "    }\n",
       "</style>\n",
       "<table border=\"1\" class=\"dataframe\">\n",
       "  <thead>\n",
       "    <tr style=\"text-align: right;\">\n",
       "      <th></th>\n",
       "      <th>tripduration</th>\n",
       "      <th>starttime</th>\n",
       "      <th>stoptime</th>\n",
       "      <th>start_station_id</th>\n",
       "      <th>start_station_name</th>\n",
       "      <th>start_station_latitude</th>\n",
       "      <th>start_station_longitude</th>\n",
       "      <th>end_station_id</th>\n",
       "      <th>end_station_name</th>\n",
       "      <th>end_station_latitude</th>\n",
       "      <th>end_station_longitude</th>\n",
       "      <th>bikeid</th>\n",
       "      <th>usertype</th>\n",
       "      <th>birth_year</th>\n",
       "      <th>gender</th>\n",
       "    </tr>\n",
       "  </thead>\n",
       "  <tbody>\n",
       "    <tr>\n",
       "      <th>0</th>\n",
       "      <td>1069</td>\n",
       "      <td>2017-01-06 15:24:16.000</td>\n",
       "      <td>2017-01-06 15:42:06</td>\n",
       "      <td>266</td>\n",
       "      <td>Avenue D &amp; E 8 St</td>\n",
       "      <td>40.723684</td>\n",
       "      <td>-73.975748</td>\n",
       "      <td>410</td>\n",
       "      <td>Suffolk St &amp; Stanton St</td>\n",
       "      <td>40.720664</td>\n",
       "      <td>-73.985180</td>\n",
       "      <td>15545</td>\n",
       "      <td>Subscriber</td>\n",
       "      <td>1990.0</td>\n",
       "      <td>female</td>\n",
       "    </tr>\n",
       "    <tr>\n",
       "      <th>1</th>\n",
       "      <td>786</td>\n",
       "      <td>2017-01-25 13:37:45.000</td>\n",
       "      <td>2017-01-25 13:50:52</td>\n",
       "      <td>348</td>\n",
       "      <td>W Broadway &amp; Spring St</td>\n",
       "      <td>40.724910</td>\n",
       "      <td>-74.001547</td>\n",
       "      <td>497</td>\n",
       "      <td>E 17 St &amp; Broadway</td>\n",
       "      <td>40.737050</td>\n",
       "      <td>-73.990093</td>\n",
       "      <td>25661</td>\n",
       "      <td>Subscriber</td>\n",
       "      <td>1947.0</td>\n",
       "      <td>female</td>\n",
       "    </tr>\n",
       "    <tr>\n",
       "      <th>2</th>\n",
       "      <td>435</td>\n",
       "      <td>2017-01-09 13:05:52.000</td>\n",
       "      <td>2017-01-09 13:13:07</td>\n",
       "      <td>276</td>\n",
       "      <td>Duane St &amp; Greenwich St</td>\n",
       "      <td>40.717488</td>\n",
       "      <td>-74.010455</td>\n",
       "      <td>303</td>\n",
       "      <td>Mercer St &amp; Spring St</td>\n",
       "      <td>40.723627</td>\n",
       "      <td>-73.999496</td>\n",
       "      <td>24196</td>\n",
       "      <td>Subscriber</td>\n",
       "      <td>1989.0</td>\n",
       "      <td>female</td>\n",
       "    </tr>\n",
       "    <tr>\n",
       "      <th>3</th>\n",
       "      <td>315</td>\n",
       "      <td>2017-01-17 07:42:11.000</td>\n",
       "      <td>2017-01-17 07:47:26</td>\n",
       "      <td>485</td>\n",
       "      <td>W 37 St &amp; 5 Ave</td>\n",
       "      <td>40.750380</td>\n",
       "      <td>-73.983390</td>\n",
       "      <td>472</td>\n",
       "      <td>E 32 St &amp; Park Ave</td>\n",
       "      <td>40.745712</td>\n",
       "      <td>-73.981948</td>\n",
       "      <td>19768</td>\n",
       "      <td>Subscriber</td>\n",
       "      <td>1973.0</td>\n",
       "      <td>male</td>\n",
       "    </tr>\n",
       "    <tr>\n",
       "      <th>4</th>\n",
       "      <td>447</td>\n",
       "      <td>2017-01-30 18:48:07.000</td>\n",
       "      <td>2017-01-30 18:55:35</td>\n",
       "      <td>253</td>\n",
       "      <td>W 13 St &amp; 5 Ave</td>\n",
       "      <td>40.735439</td>\n",
       "      <td>-73.994539</td>\n",
       "      <td>439</td>\n",
       "      <td>E 4 St &amp; 2 Ave</td>\n",
       "      <td>40.726281</td>\n",
       "      <td>-73.989780</td>\n",
       "      <td>14929</td>\n",
       "      <td>Subscriber</td>\n",
       "      <td>1986.0</td>\n",
       "      <td>male</td>\n",
       "    </tr>\n",
       "    <tr>\n",
       "      <th>...</th>\n",
       "      <td>...</td>\n",
       "      <td>...</td>\n",
       "      <td>...</td>\n",
       "      <td>...</td>\n",
       "      <td>...</td>\n",
       "      <td>...</td>\n",
       "      <td>...</td>\n",
       "      <td>...</td>\n",
       "      <td>...</td>\n",
       "      <td>...</td>\n",
       "      <td>...</td>\n",
       "      <td>...</td>\n",
       "      <td>...</td>\n",
       "      <td>...</td>\n",
       "      <td>...</td>\n",
       "    </tr>\n",
       "    <tr>\n",
       "      <th>957167</th>\n",
       "      <td>281</td>\n",
       "      <td>2018-04-05 10:31:05.918</td>\n",
       "      <td>2018-04-05 10:35:47.532</td>\n",
       "      <td>3140</td>\n",
       "      <td>1 Ave &amp; E 78 St</td>\n",
       "      <td>40.771404</td>\n",
       "      <td>-73.953517</td>\n",
       "      <td>3369</td>\n",
       "      <td>E 82 St &amp; East End Ave</td>\n",
       "      <td>40.772461</td>\n",
       "      <td>-73.946821</td>\n",
       "      <td>16302</td>\n",
       "      <td>Subscriber</td>\n",
       "      <td>1981.0</td>\n",
       "      <td>male</td>\n",
       "    </tr>\n",
       "    <tr>\n",
       "      <th>957168</th>\n",
       "      <td>189</td>\n",
       "      <td>2018-04-10 18:04:04.911</td>\n",
       "      <td>2018-04-10 18:07:14.602</td>\n",
       "      <td>3140</td>\n",
       "      <td>1 Ave &amp; E 78 St</td>\n",
       "      <td>40.771404</td>\n",
       "      <td>-73.953517</td>\n",
       "      <td>3369</td>\n",
       "      <td>E 82 St &amp; East End Ave</td>\n",
       "      <td>40.772461</td>\n",
       "      <td>-73.946821</td>\n",
       "      <td>29734</td>\n",
       "      <td>Subscriber</td>\n",
       "      <td>1987.0</td>\n",
       "      <td>male</td>\n",
       "    </tr>\n",
       "    <tr>\n",
       "      <th>957169</th>\n",
       "      <td>1285</td>\n",
       "      <td>2018-05-01 16:59:30.243</td>\n",
       "      <td>2018-05-01 17:20:55.541</td>\n",
       "      <td>3369</td>\n",
       "      <td>E 82 St &amp; East End Ave</td>\n",
       "      <td>40.772461</td>\n",
       "      <td>-73.946821</td>\n",
       "      <td>3369</td>\n",
       "      <td>E 82 St &amp; East End Ave</td>\n",
       "      <td>40.772461</td>\n",
       "      <td>-73.946821</td>\n",
       "      <td>29847</td>\n",
       "      <td>Subscriber</td>\n",
       "      <td>1959.0</td>\n",
       "      <td>female</td>\n",
       "    </tr>\n",
       "    <tr>\n",
       "      <th>957170</th>\n",
       "      <td>1616</td>\n",
       "      <td>2018-05-23 18:49:25.785</td>\n",
       "      <td>2018-05-23 19:16:22.177</td>\n",
       "      <td>3369</td>\n",
       "      <td>E 82 St &amp; East End Ave</td>\n",
       "      <td>40.772461</td>\n",
       "      <td>-73.946821</td>\n",
       "      <td>3369</td>\n",
       "      <td>E 82 St &amp; East End Ave</td>\n",
       "      <td>40.772461</td>\n",
       "      <td>-73.946821</td>\n",
       "      <td>29932</td>\n",
       "      <td>Subscriber</td>\n",
       "      <td>1969.0</td>\n",
       "      <td>unknown</td>\n",
       "    </tr>\n",
       "    <tr>\n",
       "      <th>957171</th>\n",
       "      <td>1597</td>\n",
       "      <td>2018-01-28 09:02:16.625</td>\n",
       "      <td>2018-01-28 09:28:54.057</td>\n",
       "      <td>3369</td>\n",
       "      <td>E 82 St &amp; East End Ave</td>\n",
       "      <td>40.772461</td>\n",
       "      <td>-73.946821</td>\n",
       "      <td>3369</td>\n",
       "      <td>E 82 St &amp; East End Ave</td>\n",
       "      <td>40.772461</td>\n",
       "      <td>-73.946821</td>\n",
       "      <td>19096</td>\n",
       "      <td>Subscriber</td>\n",
       "      <td>1977.0</td>\n",
       "      <td>male</td>\n",
       "    </tr>\n",
       "  </tbody>\n",
       "</table>\n",
       "<p>957172 rows × 15 columns</p>\n",
       "</div>"
      ],
      "text/plain": [
       "        tripduration               starttime                 stoptime  \\\n",
       "0               1069 2017-01-06 15:24:16.000      2017-01-06 15:42:06   \n",
       "1                786 2017-01-25 13:37:45.000      2017-01-25 13:50:52   \n",
       "2                435 2017-01-09 13:05:52.000      2017-01-09 13:13:07   \n",
       "3                315 2017-01-17 07:42:11.000      2017-01-17 07:47:26   \n",
       "4                447 2017-01-30 18:48:07.000      2017-01-30 18:55:35   \n",
       "...              ...                     ...                      ...   \n",
       "957167           281 2018-04-05 10:31:05.918  2018-04-05 10:35:47.532   \n",
       "957168           189 2018-04-10 18:04:04.911  2018-04-10 18:07:14.602   \n",
       "957169          1285 2018-05-01 16:59:30.243  2018-05-01 17:20:55.541   \n",
       "957170          1616 2018-05-23 18:49:25.785  2018-05-23 19:16:22.177   \n",
       "957171          1597 2018-01-28 09:02:16.625  2018-01-28 09:28:54.057   \n",
       "\n",
       "        start_station_id       start_station_name  start_station_latitude  \\\n",
       "0                    266        Avenue D & E 8 St               40.723684   \n",
       "1                    348   W Broadway & Spring St               40.724910   \n",
       "2                    276  Duane St & Greenwich St               40.717488   \n",
       "3                    485          W 37 St & 5 Ave               40.750380   \n",
       "4                    253          W 13 St & 5 Ave               40.735439   \n",
       "...                  ...                      ...                     ...   \n",
       "957167              3140          1 Ave & E 78 St               40.771404   \n",
       "957168              3140          1 Ave & E 78 St               40.771404   \n",
       "957169              3369   E 82 St & East End Ave               40.772461   \n",
       "957170              3369   E 82 St & East End Ave               40.772461   \n",
       "957171              3369   E 82 St & East End Ave               40.772461   \n",
       "\n",
       "        start_station_longitude  end_station_id         end_station_name  \\\n",
       "0                    -73.975748             410  Suffolk St & Stanton St   \n",
       "1                    -74.001547             497       E 17 St & Broadway   \n",
       "2                    -74.010455             303    Mercer St & Spring St   \n",
       "3                    -73.983390             472       E 32 St & Park Ave   \n",
       "4                    -73.994539             439           E 4 St & 2 Ave   \n",
       "...                         ...             ...                      ...   \n",
       "957167               -73.953517            3369   E 82 St & East End Ave   \n",
       "957168               -73.953517            3369   E 82 St & East End Ave   \n",
       "957169               -73.946821            3369   E 82 St & East End Ave   \n",
       "957170               -73.946821            3369   E 82 St & East End Ave   \n",
       "957171               -73.946821            3369   E 82 St & East End Ave   \n",
       "\n",
       "        end_station_latitude  end_station_longitude  bikeid    usertype  \\\n",
       "0                  40.720664             -73.985180   15545  Subscriber   \n",
       "1                  40.737050             -73.990093   25661  Subscriber   \n",
       "2                  40.723627             -73.999496   24196  Subscriber   \n",
       "3                  40.745712             -73.981948   19768  Subscriber   \n",
       "4                  40.726281             -73.989780   14929  Subscriber   \n",
       "...                      ...                    ...     ...         ...   \n",
       "957167             40.772461             -73.946821   16302  Subscriber   \n",
       "957168             40.772461             -73.946821   29734  Subscriber   \n",
       "957169             40.772461             -73.946821   29847  Subscriber   \n",
       "957170             40.772461             -73.946821   29932  Subscriber   \n",
       "957171             40.772461             -73.946821   19096  Subscriber   \n",
       "\n",
       "        birth_year   gender  \n",
       "0           1990.0   female  \n",
       "1           1947.0   female  \n",
       "2           1989.0   female  \n",
       "3           1973.0     male  \n",
       "4           1986.0     male  \n",
       "...            ...      ...  \n",
       "957167      1981.0     male  \n",
       "957168      1987.0     male  \n",
       "957169      1959.0   female  \n",
       "957170      1969.0  unknown  \n",
       "957171      1977.0     male  \n",
       "\n",
       "[957172 rows x 15 columns]"
      ]
     },
     "execution_count": 4,
     "metadata": {},
     "output_type": "execute_result"
    }
   ],
   "source": [
    "trips"
   ]
  },
  {
   "cell_type": "code",
   "execution_count": 5,
   "id": "40d63ce0-39a1-4ba7-a500-d9738e1a9b99",
   "metadata": {},
   "outputs": [
    {
     "data": {
      "text/html": [
       "<div>\n",
       "<style scoped>\n",
       "    .dataframe tbody tr th:only-of-type {\n",
       "        vertical-align: middle;\n",
       "    }\n",
       "\n",
       "    .dataframe tbody tr th {\n",
       "        vertical-align: top;\n",
       "    }\n",
       "\n",
       "    .dataframe thead th {\n",
       "        text-align: right;\n",
       "    }\n",
       "</style>\n",
       "<table border=\"1\" class=\"dataframe\">\n",
       "  <thead>\n",
       "    <tr style=\"text-align: right;\">\n",
       "      <th></th>\n",
       "      <th>tripduration</th>\n",
       "      <th>start_station_id</th>\n",
       "      <th>start_station_latitude</th>\n",
       "      <th>start_station_longitude</th>\n",
       "      <th>end_station_id</th>\n",
       "      <th>end_station_latitude</th>\n",
       "      <th>end_station_longitude</th>\n",
       "      <th>bikeid</th>\n",
       "      <th>birth_year</th>\n",
       "    </tr>\n",
       "  </thead>\n",
       "  <tbody>\n",
       "    <tr>\n",
       "      <th>count</th>\n",
       "      <td>9.571720e+05</td>\n",
       "      <td>957172.000000</td>\n",
       "      <td>957172.000000</td>\n",
       "      <td>957172.000000</td>\n",
       "      <td>957172.000000</td>\n",
       "      <td>957172.000000</td>\n",
       "      <td>957172.000000</td>\n",
       "      <td>957172.000000</td>\n",
       "      <td>858855.00000</td>\n",
       "    </tr>\n",
       "    <tr>\n",
       "      <th>mean</th>\n",
       "      <td>9.617450e+02</td>\n",
       "      <td>969.144711</td>\n",
       "      <td>40.736302</td>\n",
       "      <td>-73.987084</td>\n",
       "      <td>959.770266</td>\n",
       "      <td>40.735965</td>\n",
       "      <td>-73.987285</td>\n",
       "      <td>21299.670925</td>\n",
       "      <td>1977.47277</td>\n",
       "    </tr>\n",
       "    <tr>\n",
       "      <th>std</th>\n",
       "      <td>1.265243e+04</td>\n",
       "      <td>1135.822265</td>\n",
       "      <td>0.048351</td>\n",
       "      <td>0.077279</td>\n",
       "      <td>1129.015253</td>\n",
       "      <td>0.048286</td>\n",
       "      <td>0.077287</td>\n",
       "      <td>4916.093413</td>\n",
       "      <td>11.69363</td>\n",
       "    </tr>\n",
       "    <tr>\n",
       "      <th>min</th>\n",
       "      <td>6.000000e+01</td>\n",
       "      <td>72.000000</td>\n",
       "      <td>0.000000</td>\n",
       "      <td>-74.025353</td>\n",
       "      <td>72.000000</td>\n",
       "      <td>0.000000</td>\n",
       "      <td>-74.055701</td>\n",
       "      <td>14529.000000</td>\n",
       "      <td>1874.00000</td>\n",
       "    </tr>\n",
       "    <tr>\n",
       "      <th>25%</th>\n",
       "      <td>3.800000e+02</td>\n",
       "      <td>329.000000</td>\n",
       "      <td>40.720196</td>\n",
       "      <td>-73.998102</td>\n",
       "      <td>328.000000</td>\n",
       "      <td>40.720196</td>\n",
       "      <td>-73.998522</td>\n",
       "      <td>17322.000000</td>\n",
       "      <td>1969.00000</td>\n",
       "    </tr>\n",
       "    <tr>\n",
       "      <th>50%</th>\n",
       "      <td>6.240000e+02</td>\n",
       "      <td>453.000000</td>\n",
       "      <td>40.737050</td>\n",
       "      <td>-73.989111</td>\n",
       "      <td>453.000000</td>\n",
       "      <td>40.737050</td>\n",
       "      <td>-73.989186</td>\n",
       "      <td>20057.000000</td>\n",
       "      <td>1980.00000</td>\n",
       "    </tr>\n",
       "    <tr>\n",
       "      <th>75%</th>\n",
       "      <td>1.058000e+03</td>\n",
       "      <td>529.000000</td>\n",
       "      <td>40.752069</td>\n",
       "      <td>-73.977987</td>\n",
       "      <td>528.000000</td>\n",
       "      <td>40.751873</td>\n",
       "      <td>-73.978059</td>\n",
       "      <td>25093.250000</td>\n",
       "      <td>1987.00000</td>\n",
       "    </tr>\n",
       "    <tr>\n",
       "      <th>max</th>\n",
       "      <td>5.621413e+06</td>\n",
       "      <td>3686.000000</td>\n",
       "      <td>40.814394</td>\n",
       "      <td>0.000000</td>\n",
       "      <td>3686.000000</td>\n",
       "      <td>40.814394</td>\n",
       "      <td>0.000000</td>\n",
       "      <td>33690.000000</td>\n",
       "      <td>2002.00000</td>\n",
       "    </tr>\n",
       "  </tbody>\n",
       "</table>\n",
       "</div>"
      ],
      "text/plain": [
       "       tripduration  start_station_id  start_station_latitude  \\\n",
       "count  9.571720e+05     957172.000000           957172.000000   \n",
       "mean   9.617450e+02        969.144711               40.736302   \n",
       "std    1.265243e+04       1135.822265                0.048351   \n",
       "min    6.000000e+01         72.000000                0.000000   \n",
       "25%    3.800000e+02        329.000000               40.720196   \n",
       "50%    6.240000e+02        453.000000               40.737050   \n",
       "75%    1.058000e+03        529.000000               40.752069   \n",
       "max    5.621413e+06       3686.000000               40.814394   \n",
       "\n",
       "       start_station_longitude  end_station_id  end_station_latitude  \\\n",
       "count            957172.000000   957172.000000         957172.000000   \n",
       "mean                -73.987084      959.770266             40.735965   \n",
       "std                   0.077279     1129.015253              0.048286   \n",
       "min                 -74.025353       72.000000              0.000000   \n",
       "25%                 -73.998102      328.000000             40.720196   \n",
       "50%                 -73.989111      453.000000             40.737050   \n",
       "75%                 -73.977987      528.000000             40.751873   \n",
       "max                   0.000000     3686.000000             40.814394   \n",
       "\n",
       "       end_station_longitude         bikeid    birth_year  \n",
       "count          957172.000000  957172.000000  858855.00000  \n",
       "mean              -73.987285   21299.670925    1977.47277  \n",
       "std                 0.077287    4916.093413      11.69363  \n",
       "min               -74.055701   14529.000000    1874.00000  \n",
       "25%               -73.998522   17322.000000    1969.00000  \n",
       "50%               -73.989186   20057.000000    1980.00000  \n",
       "75%               -73.978059   25093.250000    1987.00000  \n",
       "max                 0.000000   33690.000000    2002.00000  "
      ]
     },
     "execution_count": 5,
     "metadata": {},
     "output_type": "execute_result"
    }
   ],
   "source": [
    "trips.describe()"
   ]
  },
  {
   "cell_type": "code",
   "execution_count": 6,
   "id": "f993158e-eaff-4f2e-9b29-49776f7035aa",
   "metadata": {},
   "outputs": [
    {
     "data": {
      "text/plain": [
       "array(['female', 'male', 'unknown'], dtype=object)"
      ]
     },
     "execution_count": 6,
     "metadata": {},
     "output_type": "execute_result"
    }
   ],
   "source": [
    "trips.gender.unique()"
   ]
  },
  {
   "cell_type": "code",
   "execution_count": 7,
   "id": "939b02b9-1763-4af6-a4dd-41b0e89fd27b",
   "metadata": {},
   "outputs": [
    {
     "data": {
      "text/plain": [
       "17400"
      ]
     },
     "execution_count": 7,
     "metadata": {},
     "output_type": "execute_result"
    }
   ],
   "source": [
    "len(trips.bikeid.unique())"
   ]
  },
  {
   "cell_type": "code",
   "execution_count": 8,
   "id": "aa1a3a20-8069-494d-9ec9-136e2188a156",
   "metadata": {},
   "outputs": [
    {
     "data": {
      "text/plain": [
       "Timestamp('2013-07-01 00:00:02')"
      ]
     },
     "execution_count": 8,
     "metadata": {},
     "output_type": "execute_result"
    }
   ],
   "source": [
    "trips.starttime.min()"
   ]
  },
  {
   "cell_type": "code",
   "execution_count": 9,
   "id": "418b9582-3ec9-41dd-ac4b-2950509633b4",
   "metadata": {},
   "outputs": [
    {
     "data": {
      "text/plain": [
       "Timestamp('2018-05-31 23:57:01.982000')"
      ]
     },
     "execution_count": 9,
     "metadata": {},
     "output_type": "execute_result"
    }
   ],
   "source": [
    "trips.starttime.max()"
   ]
  },
  {
   "cell_type": "code",
   "execution_count": 10,
   "id": "d7536af0-872d-4258-a1ff-b30b8a3e3c02",
   "metadata": {},
   "outputs": [
    {
     "data": {
      "text/plain": [
       "0        2017-01-06 15:24:16.000\n",
       "1        2017-01-25 13:37:45.000\n",
       "2        2017-01-09 13:05:52.000\n",
       "3        2017-01-17 07:42:11.000\n",
       "4        2017-01-30 18:48:07.000\n",
       "                   ...          \n",
       "957167   2018-04-05 10:31:05.918\n",
       "957168   2018-04-10 18:04:04.911\n",
       "957169   2018-05-01 16:59:30.243\n",
       "957170   2018-05-23 18:49:25.785\n",
       "957171   2018-01-28 09:02:16.625\n",
       "Name: starttime, Length: 957172, dtype: datetime64[ns]"
      ]
     },
     "execution_count": 10,
     "metadata": {},
     "output_type": "execute_result"
    }
   ],
   "source": [
    "trips.starttime"
   ]
  },
  {
   "cell_type": "markdown",
   "id": "b8290173-c084-4dbf-92b0-335512ec5403",
   "metadata": {},
   "source": [
    "The dataset consists of 957172 rides on 17387 distinct bikes. The dataset covers rides between July 2013 and May 2018. "
   ]
  },
  {
   "cell_type": "markdown",
   "id": "99aef9c2-12cc-4e37-8b53-9ffe357ac111",
   "metadata": {},
   "source": [
    "### Exploratory analysis"
   ]
  },
  {
   "cell_type": "code",
   "execution_count": 11,
   "id": "ba779bad-e501-468d-97f9-fd97326a23bd",
   "metadata": {},
   "outputs": [
    {
     "data": {
      "text/plain": [
       "<Axes: xlabel='birth_year', ylabel='Count'>"
      ]
     },
     "execution_count": 11,
     "metadata": {},
     "output_type": "execute_result"
    },
    {
     "data": {
      "image/png": "[encoded data removed]",
      "text/plain": [
       "<Figure size 432x288 with 1 Axes>"
      ]
     },
     "metadata": {
      "needs_background": "light"
     },
     "output_type": "display_data"
    }
   ],
   "source": [
    "sns.histplot(data=trips, x='birth_year')"
   ]
  },
  {
   "cell_type": "markdown",
   "id": "53c183f3-e676-4d7a-b6aa-3a3c8244682f",
   "metadata": {},
   "source": [
    "Histogram of rides by birthyear, we can see some outliers / unreasonable birth years so we filter the data to birthyears >= 1940"
   ]
  },
  {
   "cell_type": "code",
   "execution_count": 12,
   "id": "608b2964-1e42-4f3d-b6eb-d39cbc73013d",
   "metadata": {},
   "outputs": [],
   "source": [
    "# remove noise\n",
    "trips = trips[trips['birth_year'] >= 1940]"
   ]
  },
  {
   "cell_type": "code",
   "execution_count": 13,
   "id": "7cca72dc-1906-49e3-aa55-f22c8acd5ae8",
   "metadata": {},
   "outputs": [],
   "source": [
    "user_age = trips['starttime'].dt.year - trips['birth_year']"
   ]
  },
  {
   "cell_type": "code",
   "execution_count": 14,
   "id": "48458dba-77a2-4713-887b-802e3f640e5a",
   "metadata": {},
   "outputs": [
    {
     "data": {
      "text/plain": [
       "count    857752.000000\n",
       "mean         38.238351\n",
       "std          11.458097\n",
       "min          16.000000\n",
       "25%          29.000000\n",
       "50%          36.000000\n",
       "75%          46.000000\n",
       "max          78.000000\n",
       "dtype: float64"
      ]
     },
     "execution_count": 14,
     "metadata": {},
     "output_type": "execute_result"
    }
   ],
   "source": [
    "user_age.describe()"
   ]
  },
  {
   "cell_type": "markdown",
   "id": "48026700-0540-4178-99ad-eea574064e26",
   "metadata": {},
   "source": [
    "The median user age is 36 with an inter-quartile range of 29-46. \n"
   ]
  },
  {
   "cell_type": "code",
   "execution_count": 15,
   "id": "f9bcd02b-76c8-451c-921e-a9c304e90960",
   "metadata": {},
   "outputs": [
    {
     "data": {
      "text/plain": [
       "array(['Subscriber', nan, 'Customer'], dtype=object)"
      ]
     },
     "execution_count": 15,
     "metadata": {},
     "output_type": "execute_result"
    }
   ],
   "source": [
    "trips['usertype'].unique()"
   ]
  },
  {
   "cell_type": "code",
   "execution_count": 16,
   "id": "1dbf7183-d63d-4db2-a659-d81b2391d3f6",
   "metadata": {},
   "outputs": [
    {
     "data": {
      "text/plain": [
       "<Axes: xlabel='tripduration', ylabel='Proportion'>"
      ]
     },
     "execution_count": 16,
     "metadata": {},
     "output_type": "execute_result"
    },
    {
     "data": {
      "image/png": "[encoded data removed]",
      "text/plain": [
       "<Figure size 432x288 with 1 Axes>"
      ]
     },
     "metadata": {
      "needs_background": "light"
     },
     "output_type": "display_data"
    }
   ],
   "source": [
    "sns.ecdfplot(data=trips, x='tripduration', log_scale=True, hue=\"usertype\")"
   ]
  },
  {
   "cell_type": "markdown",
   "id": "3e5e625a-333a-4d2b-a95c-30bfe91e43b8",
   "metadata": {},
   "source": [
    "Interestingly, subscribers tend to take shorter trips than one-off customers."
   ]
  },
  {
   "cell_type": "code",
   "execution_count": 17,
   "id": "5d0dff0f-520c-41e8-b28d-7b49a8d2023f",
   "metadata": {},
   "outputs": [
    {
     "data": {
      "text/plain": [
       "<Axes: xlabel='tripduration', ylabel='Proportion'>"
      ]
     },
     "execution_count": 17,
     "metadata": {},
     "output_type": "execute_result"
    },
    {
     "data": {
      "image/png": "[encoded data removed]",
      "text/plain": [
       "<Figure size 432x288 with 1 Axes>"
      ]
     },
     "metadata": {
      "needs_background": "light"
     },
     "output_type": "display_data"
    }
   ],
   "source": [
    "sns.ecdfplot(data=trips, x='tripduration', log_scale=True, hue=\"gender\")"
   ]
  },
  {
   "cell_type": "code",
   "execution_count": 41,
   "id": "c937edc4-90c7-4e58-bfd8-a7934b225af6",
   "metadata": {},
   "outputs": [
    {
     "name": "stdout",
     "output_type": "stream",
     "text": [
      "9516\n",
      "643096\n",
      "205140\n"
     ]
    }
   ],
   "source": [
    "print((trips['gender'] == 'unknown').sum())\n",
    "print((trips['gender'] == 'male').sum())\n",
    "print((trips['gender'] == 'female').sum())"
   ]
  },
  {
   "cell_type": "markdown",
   "id": "fd016ec0-4c77-448f-99d0-a0db614b8d89",
   "metadata": {},
   "source": [
    "Note, the dataset appears to use gender to refer to sex. \n",
    "Men appear to take slightly shorter trips than women. Men also take about 3 times as many trips as women. \n",
    "Riders of unknown sex make up a much smaller proportion of the dataset, but also take longer rides. "
   ]
  },
  {
   "cell_type": "code",
   "execution_count": 18,
   "id": "982189dc-fb99-4d9d-8219-5e2b6b923bb2",
   "metadata": {},
   "outputs": [
    {
     "name": "stdout",
     "output_type": "stream",
     "text": [
      "Number of bikes: 17387\n"
     ]
    },
    {
     "data": {
      "text/plain": [
       "<Axes: ylabel='Proportion'>"
      ]
     },
     "execution_count": 18,
     "metadata": {},
     "output_type": "execute_result"
    },
    {
     "data": {
      "image/png": "[encoded data removed]",
      "text/plain": [
       "<Figure size 432x288 with 1 Axes>"
      ]
     },
     "metadata": {
      "needs_background": "light"
     },
     "output_type": "display_data"
    }
   ],
   "source": [
    "print(f\"Number of bikes: {len(trips['bikeid'].unique())}\")\n",
    "sns.ecdfplot(x=trips['bikeid'].value_counts().array)"
   ]
  },
  {
   "cell_type": "markdown",
   "id": "f3c71b83-5e87-4557-98a8-f18e56147479",
   "metadata": {},
   "source": [
    "The distribution of rides each bike has been used for is non-uniform. This could be due to the gradual expansion of the program and varying bike ages in the system."
   ]
  },
  {
   "cell_type": "markdown",
   "id": "44c22362-aa37-4bc3-a219-550e1fc88609",
   "metadata": {},
   "source": [
    "### Temporal trends"
   ]
  },
  {
   "cell_type": "code",
   "execution_count": 42,
   "id": "5173462f-9b92-4688-b157-d37da07170b1",
   "metadata": {},
   "outputs": [
    {
     "name": "stderr",
     "output_type": "stream",
     "text": [
      "/var/folders/3x/86m2vyd15lsgzkv205fyh9x80000gp/T/ipykernel_56978/2108699043.py:1: SettingWithCopyWarning: \n",
      "A value is trying to be set on a copy of a slice from a DataFrame.\n",
      "Try using .loc[row_indexer,col_indexer] = value instead\n",
      "\n",
      "See the caveats in the documentation: https://pandas.pydata.org/pandas-docs/stable/user_guide/indexing.html#returning-a-view-versus-a-copy\n",
      "  trips['starttime'] =  pd.to_datetime(trips['starttime'])\n",
      "/var/folders/3x/86m2vyd15lsgzkv205fyh9x80000gp/T/ipykernel_56978/2108699043.py:2: SettingWithCopyWarning: \n",
      "A value is trying to be set on a copy of a slice from a DataFrame.\n",
      "Try using .loc[row_indexer,col_indexer] = value instead\n",
      "\n",
      "See the caveats in the documentation: https://pandas.pydata.org/pandas-docs/stable/user_guide/indexing.html#returning-a-view-versus-a-copy\n",
      "  trips['trip_month'] = trips['starttime'].dt.to_period('M')\n",
      "/var/folders/3x/86m2vyd15lsgzkv205fyh9x80000gp/T/ipykernel_56978/2108699043.py:3: SettingWithCopyWarning: \n",
      "A value is trying to be set on a copy of a slice from a DataFrame.\n",
      "Try using .loc[row_indexer,col_indexer] = value instead\n",
      "\n",
      "See the caveats in the documentation: https://pandas.pydata.org/pandas-docs/stable/user_guide/indexing.html#returning-a-view-versus-a-copy\n",
      "  trips['trip_month'] = trips['trip_month'].apply(lambda t: t.to_timestamp())\n"
     ]
    }
   ],
   "source": [
    "trips['starttime'] =  pd.to_datetime(trips['starttime'])\n",
    "trips['trip_month'] = trips['starttime'].dt.to_period('M')\n",
    "trips['trip_month'] = trips['trip_month'].apply(lambda t: t.to_timestamp())\n"
   ]
  },
  {
   "cell_type": "code",
   "execution_count": 20,
   "id": "6fcf78fc-4be2-49a1-8e85-02e107456013",
   "metadata": {},
   "outputs": [],
   "source": [
    "trips_by_month = trips.groupby(['trip_month']).size().reset_index(name\n",
    "    = 'count').reset_index()\n"
   ]
  },
  {
   "cell_type": "code",
   "execution_count": 21,
   "id": "aeb6396b-2a91-4860-b91a-f1cc03e5e9bb",
   "metadata": {},
   "outputs": [
    {
     "data": {
      "image/png": "[encoded data removed]",
      "text/plain": [
       "<Figure size 432x288 with 1 Axes>"
      ]
     },
     "metadata": {
      "needs_background": "light"
     },
     "output_type": "display_data"
    }
   ],
   "source": [
    "ax = sns.lineplot(data=trips_by_month, x='trip_month', y='count', markers=True, marker=\"o\") "
   ]
  },
  {
   "cell_type": "markdown",
   "id": "a4b41181-5e0a-4404-aa55-3c8502fdfa48",
   "metadata": {},
   "source": [
    "In the long term, usage is increasing year over year but is also highly seasonal. The majority of trips occur in the warmer spring and summer months, and ridership dwindles in the colder winters in New York City. The winter of 2017-2018 is particularly interesting, as the period of reduced winter ridership is longer than the other years. This is perhaps due to that year's notably cold and long winter and the (late-season nor'easters)[https://en.wikipedia.org/wiki/2017%E2%80%9318_North_American_winter#Early%E2%80%93late_March_nor'easters] in March resulting in unfavourable cycling conditions. "
   ]
  },
  {
   "cell_type": "code",
   "execution_count": 22,
   "id": "5539baac-a4d4-42d3-aff9-c99b02407eca",
   "metadata": {},
   "outputs": [
    {
     "name": "stderr",
     "output_type": "stream",
     "text": [
      "/var/folders/3x/86m2vyd15lsgzkv205fyh9x80000gp/T/ipykernel_56978/849188960.py:1: SettingWithCopyWarning: \n",
      "A value is trying to be set on a copy of a slice from a DataFrame.\n",
      "Try using .loc[row_indexer,col_indexer] = value instead\n",
      "\n",
      "See the caveats in the documentation: https://pandas.pydata.org/pandas-docs/stable/user_guide/indexing.html#returning-a-view-versus-a-copy\n",
      "  trips['starttime'] =  pd.to_datetime(trips['starttime'])\n",
      "/var/folders/3x/86m2vyd15lsgzkv205fyh9x80000gp/T/ipykernel_56978/849188960.py:2: SettingWithCopyWarning: \n",
      "A value is trying to be set on a copy of a slice from a DataFrame.\n",
      "Try using .loc[row_indexer,col_indexer] = value instead\n",
      "\n",
      "See the caveats in the documentation: https://pandas.pydata.org/pandas-docs/stable/user_guide/indexing.html#returning-a-view-versus-a-copy\n",
      "  trips['trip_hour'] = trips['starttime'].dt.hour\n",
      "/var/folders/3x/86m2vyd15lsgzkv205fyh9x80000gp/T/ipykernel_56978/849188960.py:4: SettingWithCopyWarning: \n",
      "A value is trying to be set on a copy of a slice from a DataFrame.\n",
      "Try using .loc[row_indexer,col_indexer] = value instead\n",
      "\n",
      "See the caveats in the documentation: https://pandas.pydata.org/pandas-docs/stable/user_guide/indexing.html#returning-a-view-versus-a-copy\n",
      "  trips['trip_day_of_week'] = trips['starttime'].dt.dayofweek\n"
     ]
    }
   ],
   "source": [
    "trips['starttime'] =  pd.to_datetime(trips['starttime'])\n",
    "trips['trip_hour'] = trips['starttime'].dt.hour\n",
    "# trips['trip_hour'] = trips['trip_hour'].apply(lambda t: t.to_timestamp())\n",
    "trips['trip_day_of_week'] = trips['starttime'].dt.dayofweek\n",
    "# trips['trip_day_of_week'] = trips['trip_day_of_week'].apply(lambda t: t.to_timestamp())\n",
    "\n",
    "trips_by_hour = trips.groupby(['trip_hour', 'trip_day_of_week']).size().reset_index(name\n",
    "    = 'count').reset_index()\n"
   ]
  },
  {
   "cell_type": "code",
   "execution_count": 23,
   "id": "2f84e2dc-0d14-4213-bad2-29cc1b3b4603",
   "metadata": {},
   "outputs": [
    {
     "name": "stderr",
     "output_type": "stream",
     "text": [
      "/var/folders/3x/86m2vyd15lsgzkv205fyh9x80000gp/T/ipykernel_56978/30841622.py:2: UserWarning: The palette list has more values (10) than needed (7), which may not be intended.\n",
      "  ax = sns.lineplot(data=trips_by_hour, x='trip_hour', y='count', hue='trip_day_of_week', markers=True, marker=\"o\", palette=sns.color_palette())\n"
     ]
    },
    {
     "data": {
      "image/png": "[encoded data removed]",
      "text/plain": [
       "<Figure size 432x288 with 1 Axes>"
      ]
     },
     "metadata": {
      "needs_background": "light"
     },
     "output_type": "display_data"
    }
   ],
   "source": [
    "sns.set_palette(\"tab10\")\n",
    "ax = sns.lineplot(data=trips_by_hour, x='trip_hour', y='count', hue='trip_day_of_week', markers=True, marker=\"o\", palette=sns.color_palette()) "
   ]
  },
  {
   "cell_type": "code",
   "execution_count": 24,
   "id": "0d137e0d-742f-4579-a87c-a376fecd5a08",
   "metadata": {},
   "outputs": [],
   "source": [
    "trips_by_day = trips.groupby(['trip_day_of_week']).size().reset_index(name\n",
    "    = 'count')"
   ]
  },
  {
   "cell_type": "code",
   "execution_count": 25,
   "id": "7f636507-10bb-40a4-b242-677a6f05d070",
   "metadata": {},
   "outputs": [
    {
     "data": {
      "image/png": "[encoded data removed]",
      "text/plain": [
       "<Figure size 432x288 with 1 Axes>"
      ]
     },
     "metadata": {
      "needs_background": "light"
     },
     "output_type": "display_data"
    }
   ],
   "source": [
    "ax = sns.barplot(data = trips_by_day, x='trip_day_of_week', y='count') "
   ]
  },
  {
   "cell_type": "code",
   "execution_count": 29,
   "id": "cb84b86d-65f8-4afb-9186-7adb8379d5d1",
   "metadata": {},
   "outputs": [
    {
     "data": {
      "text/html": [
       "<div>\n",
       "<style scoped>\n",
       "    .dataframe tbody tr th:only-of-type {\n",
       "        vertical-align: middle;\n",
       "    }\n",
       "\n",
       "    .dataframe tbody tr th {\n",
       "        vertical-align: top;\n",
       "    }\n",
       "\n",
       "    .dataframe thead th {\n",
       "        text-align: right;\n",
       "    }\n",
       "</style>\n",
       "<table border=\"1\" class=\"dataframe\">\n",
       "  <thead>\n",
       "    <tr style=\"text-align: right;\">\n",
       "      <th></th>\n",
       "      <th>trip_day_of_week</th>\n",
       "      <th>count</th>\n",
       "    </tr>\n",
       "  </thead>\n",
       "  <tbody>\n",
       "    <tr>\n",
       "      <th>0</th>\n",
       "      <td>0</td>\n",
       "      <td>126622</td>\n",
       "    </tr>\n",
       "    <tr>\n",
       "      <th>1</th>\n",
       "      <td>1</td>\n",
       "      <td>136751</td>\n",
       "    </tr>\n",
       "    <tr>\n",
       "      <th>2</th>\n",
       "      <td>2</td>\n",
       "      <td>141459</td>\n",
       "    </tr>\n",
       "    <tr>\n",
       "      <th>3</th>\n",
       "      <td>3</td>\n",
       "      <td>138622</td>\n",
       "    </tr>\n",
       "    <tr>\n",
       "      <th>4</th>\n",
       "      <td>4</td>\n",
       "      <td>129657</td>\n",
       "    </tr>\n",
       "    <tr>\n",
       "      <th>5</th>\n",
       "      <td>5</td>\n",
       "      <td>94743</td>\n",
       "    </tr>\n",
       "    <tr>\n",
       "      <th>6</th>\n",
       "      <td>6</td>\n",
       "      <td>89898</td>\n",
       "    </tr>\n",
       "  </tbody>\n",
       "</table>\n",
       "</div>"
      ],
      "text/plain": [
       "   trip_day_of_week   count\n",
       "0                 0  126622\n",
       "1                 1  136751\n",
       "2                 2  141459\n",
       "3                 3  138622\n",
       "4                 4  129657\n",
       "5                 5   94743\n",
       "6                 6   89898"
      ]
     },
     "execution_count": 29,
     "metadata": {},
     "output_type": "execute_result"
    }
   ],
   "source": [
    "trips_by_day"
   ]
  },
  {
   "cell_type": "code",
   "execution_count": 32,
   "id": "f3bd32be-1956-4209-803b-54fa4619825b",
   "metadata": {},
   "outputs": [],
   "source": [
    "weekend_rides = 94743+94743\n",
    "weekday_rides = trips_by_day['count'].sum() - weekend_rides"
   ]
  },
  {
   "cell_type": "code",
   "execution_count": 33,
   "id": "497f06b1-d7a1-45cf-a114-f35154a0f172",
   "metadata": {},
   "outputs": [
    {
     "data": {
      "text/plain": [
       "133653.2"
      ]
     },
     "execution_count": 33,
     "metadata": {},
     "output_type": "execute_result"
    }
   ],
   "source": [
    "weekday_rides/5"
   ]
  },
  {
   "cell_type": "code",
   "execution_count": 34,
   "id": "9458d872-2441-41ac-baea-6ee9051a1d25",
   "metadata": {},
   "outputs": [
    {
     "data": {
      "text/plain": [
       "94743.0"
      ]
     },
     "execution_count": 34,
     "metadata": {},
     "output_type": "execute_result"
    }
   ],
   "source": [
    "weekend_rides/2"
   ]
  },
  {
   "cell_type": "code",
   "execution_count": 44,
   "id": "e4b5fc95-02f6-4256-8949-b5c28724058a",
   "metadata": {},
   "outputs": [
    {
     "name": "stdout",
     "output_type": "stream",
     "text": [
      "Average weekend day ridership / weekday ridership: 0.7088719162728614\n"
     ]
    }
   ],
   "source": [
    "print(f\"Average weekend day ridership / weekday ridership: {94743/133653.2}\")"
   ]
  },
  {
   "cell_type": "markdown",
   "id": "55c1cdb8-e3c1-4ca6-bf11-632220b3cfe9",
   "metadata": {},
   "source": [
    "When breaking the data down by day of week and hour, there are clear spikes in ridership around commuting hours on weekdays as well as generally sustained ridership throughout the day during the week. Weekday ridership overall is typically higher than weekend ridership: weekend ridership is on average 70% of weekday ridership. However, weekend during-the-day usage is higher than during the week. Citi Bikes appear to be popular for commuting to work and leisure activities during the weekend. Very early morning rides on weekends are also more common than on weekdays, perhaps as riders return from nightime social activities. "
   ]
  },
  {
   "cell_type": "code",
   "execution_count": null,
   "id": "749f6d01-989b-4ab7-b24c-711f8963eb7a",
   "metadata": {},
   "outputs": [],
   "source": []
  }
 ],
 "metadata": {
  "kernelspec": {
   "display_name": "modin",
   "language": "python",
   "name": "modin"
  },
  "language_info": {
   "codemirror_mode": {
    "name": "ipython",
    "version": 3
   },
   "file_extension": ".py",
   "mimetype": "text/x-python",
   "name": "python",
   "nbconvert_exporter": "python",
   "pygments_lexer": "ipython3",
   "version": "3.9.11"
  }
 },
 "nbformat": 4,
 "nbformat_minor": 5
}
