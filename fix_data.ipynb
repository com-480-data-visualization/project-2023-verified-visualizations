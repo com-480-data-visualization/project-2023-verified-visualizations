{
 "cells": [
  {
   "cell_type": "code",
   "execution_count": 1,
   "id": "a680ce00-ca79-4dc6-90de-4c13dd69d291",
   "metadata": {},
   "outputs": [],
   "source": [
    "import modin.pandas as pd\n",
    "import os"
   ]
  },
  {
   "cell_type": "markdown",
   "id": "05022931-c7ca-4163-91d6-f5d9f0b77846",
   "metadata": {},
   "source": [
    "We downloaded the data from October 2016 to March 2017 from citibike directly. https://citibikenyc.com/system-data\n",
    "The downloaded data had the same schema with a different format for columns, so we renamed the columns to match the data extracted from the bigquery dataset. https://console.cloud.google.com/marketplace/details/city-of-new-york/nyc-citi-bike. The format of the gender column also changed between numeric and string. "
   ]
  },
  {
   "cell_type": "code",
   "execution_count": 2,
   "id": "8228f6b0-4159-40a1-b73f-21f256281885",
   "metadata": {},
   "outputs": [],
   "source": [
    "rename_dict = {\n",
    "    'Trip Duration' : 'tripduration', \n",
    "    'Start Time' : 'starttime', \n",
    "    'Stop Time' : 'stoptime',\n",
    "    'Start Station ID': 'start_station_id',\n",
    "    'Start Station Name' : 'start_station_name',\n",
    "    'Start Station Latitude' : 'start_station_latitude',\n",
    "    'Start Station Longitude' : 'start_station_longitude',\n",
    "    'End Station ID' : 'end_station_id', \n",
    "    'End Station Name' : 'end_station_name',\n",
    "    'End Station Latitude' : 'end_station_latitude', \n",
    "    'End Station Longitude' : 'end_station_longitude',\n",
    "    'Bike ID' : 'bikeid', \n",
    "    'User Type' : 'usertype',\n",
    "    'Birth Year' : 'birth_year',\n",
    "    'Gender' : 'gender'\n",
    "}"
   ]
  },
  {
   "cell_type": "code",
   "execution_count": 3,
   "id": "358d22ca-5caf-4dc8-b3f1-3fb525b549e7",
   "metadata": {},
   "outputs": [],
   "source": [
    "fix_gender_format = {\n",
    "    0: \"unknown\" ,\n",
    "    1: \"male\",\n",
    "    2:\"female\"\n",
    "}"
   ]
  },
  {
   "cell_type": "code",
   "execution_count": 4,
   "id": "bbf05a89-6183-4059-8d15-ebb25a3c26e5",
   "metadata": {},
   "outputs": [
    {
     "name": "stderr",
     "output_type": "stream",
     "text": [
      "UserWarning: Dask execution environment not yet initialized. Initializing...\n",
      "To remove this warning, run the following python code before doing dataframe operations:\n",
      "\n",
      "    from distributed import Client\n",
      "\n",
      "    client = Client()\n",
      "\n",
      "UserWarning: Port 8787 is already in use.\n",
      "Perhaps you already have a cluster running?\n",
      "Hosting the HTTP server on port 59956 instead\n"
     ]
    },
    {
     "name": "stdout",
     "output_type": "stream",
     "text": [
      "['female' 'male' 'unknown']\n",
      "['male' 'unknown' 'female']\n",
      "['male' 'female' 'unknown']\n",
      "['male' 'female' 'unknown']\n",
      "['female' 'male' 'unknown']\n",
      "['male' 'female' 'unknown']\n"
     ]
    }
   ],
   "source": [
    "trips = None\n",
    "for file in os.listdir(\"raw\"):\n",
    "    if (\"DS_Store\" in file):\n",
    "        continue\n",
    "    # print(file)\n",
    "    month_trips = pd.read_csv(\"raw/\" + file).sample(frac=0.01)\n",
    "    month_trips.rename(columns=rename_dict,\n",
    "          inplace=True)\n",
    "    month_trips['gender'] = month_trips['gender'].apply(lambda t: fix_gender_format[t] )\n",
    "\n",
    "    print(month_trips.gender.unique())\n",
    "    if trips is None:\n",
    "        trips = month_trips\n",
    "    else:\n",
    "        # print(month_trips.columns)\n",
    "        trips = pd.concat([trips, month_trips])"
   ]
  },
  {
   "cell_type": "code",
   "execution_count": 5,
   "id": "d02178ea-bbae-479f-8720-cbbf6894a47e",
   "metadata": {},
   "outputs": [
    {
     "name": "stdout",
     "output_type": "stream",
     "text": [
      "Index(['tripduration', 'starttime', 'stoptime', 'start_station_id',\n",
      "       'start_station_name', 'start_station_latitude',\n",
      "       'start_station_longitude', 'end_station_id', 'end_station_name',\n",
      "       'end_station_latitude', 'end_station_longitude', 'bikeid', 'usertype',\n",
      "       'birth_year', 'gender'],\n",
      "      dtype='object')\n"
     ]
    }
   ],
   "source": [
    "# load the data extracted from bigquery\n",
    "bq_trips = pd.read_csv(\"bigquery-citibike-trips.csv\")\n",
    "# useless/empty column from the bigquery format\n",
    "bq_trips = bq_trips.drop('customer_plan', axis=1)\n",
    "print(bq_trips.columns)\n",
    "fixed_trips = pd.concat([trips, bq_trips])"
   ]
  },
  {
   "cell_type": "code",
   "execution_count": 6,
   "id": "cd5855fe-2036-446b-9b3c-459eeb0fa867",
   "metadata": {},
   "outputs": [
    {
     "data": {
      "text/plain": [
       "array(['unknown', 'female', 'male'], dtype=object)"
      ]
     },
     "execution_count": 6,
     "metadata": {},
     "output_type": "execute_result"
    }
   ],
   "source": [
    "# double checking the gender column was fixed\n",
    "bq_trips.gender.unique()"
   ]
  },
  {
   "cell_type": "code",
   "execution_count": 7,
   "id": "35ee1ae0-a979-4c6e-b1bf-7a8e934a110c",
   "metadata": {},
   "outputs": [
    {
     "name": "stderr",
     "output_type": "stream",
     "text": [
      "UserWarning: `to_csv` defaulting to pandas implementation.\n",
      "Please refer to https://modin.readthedocs.io/en/stable/supported_apis/defaulting_to_pandas.html for explanation.\n"
     ]
    }
   ],
   "source": [
    "# Finally write out the cleaned up dataset\n",
    "fixed_trips.to_csv(\"fixed-citibike-trips.csv\", index=False)"
   ]
  }
 ],
 "metadata": {
  "kernelspec": {
   "display_name": "modin",
   "language": "python",
   "name": "modin"
  },
  "language_info": {
   "codemirror_mode": {
    "name": "ipython",
    "version": 3
   },
   "file_extension": ".py",
   "mimetype": "text/x-python",
   "name": "python",
   "nbconvert_exporter": "python",
   "pygments_lexer": "ipython3",
   "version": "3.9.11"
  }
 },
 "nbformat": 4,
 "nbformat_minor": 5
}
